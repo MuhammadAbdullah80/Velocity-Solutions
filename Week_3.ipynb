{
  "nbformat": 4,
  "nbformat_minor": 0,
  "metadata": {
    "colab": {
      "provenance": [],
      "authorship_tag": "ABX9TyMCNm0LALcOYp8+d+dLqJhu",
      "include_colab_link": true
    },
    "kernelspec": {
      "name": "python3",
      "display_name": "Python 3"
    },
    "language_info": {
      "name": "python"
    }
  },
  "cells": [
    {
      "cell_type": "markdown",
      "metadata": {
        "id": "view-in-github",
        "colab_type": "text"
      },
      "source": [
        "<a href=\"https://colab.research.google.com/github/MuhammadAbdullah80/Velocity-Solutions/blob/main/Week_3.ipynb\" target=\"_parent\"><img src=\"https://colab.research.google.com/assets/colab-badge.svg\" alt=\"Open In Colab\"/></a>"
      ]
    },
    {
      "cell_type": "markdown",
      "source": [
        "#🧩 Step 1 – Loading the MNIST Dataset\n"
      ],
      "metadata": {
        "id": "jqMtXNhXRHBj"
      }
    },
    {
      "cell_type": "markdown",
      "source": [
        "\n",
        "We used the built-in `tensorflow.keras.datasets` module to load the MNIST dataset. It contains **70,000 grayscale images** of handwritten digits (0–9), each of size 28×28 pixels.\n",
        "\n",
        "\n",
        "#### 📌 What I Learned:\n",
        "- How to load a popular dataset using TensorFlow.\n",
        "- `x_train` and `x_test` are arrays of images.\n",
        "- `y_train` and `y_test` are arrays of corresponding digit labels (0–9).\n",
        "\n"
      ],
      "metadata": {
        "id": "BdF1Vo3IQNf-"
      }
    },
    {
      "cell_type": "code",
      "execution_count": 2,
      "metadata": {
        "id": "peQASvoZmE75",
        "colab": {
          "base_uri": "https://localhost:8080/"
        },
        "outputId": "29d58aec-a817-4402-ec87-b649e121db63"
      },
      "outputs": [
        {
          "output_type": "stream",
          "name": "stdout",
          "text": [
            "Downloading data from https://storage.googleapis.com/tensorflow/tf-keras-datasets/mnist.npz\n",
            "\u001b[1m11490434/11490434\u001b[0m \u001b[32m━━━━━━━━━━━━━━━━━━━━\u001b[0m\u001b[37m\u001b[0m \u001b[1m0s\u001b[0m 0us/step\n",
            "Training data: (60000, 28, 28)\n",
            "Training labels: (60000,)\n",
            "Test data: (10000, 28, 28)\n",
            "Test labels: (10000,)\n"
          ]
        }
      ],
      "source": [
        "from tensorflow.keras.datasets import mnist\n",
        "\n",
        "# Load dataset\n",
        "(x_train, y_train), (x_test, y_test) = mnist.load_data()\n",
        "\n",
        "# Check shapes\n",
        "print(\"Training data:\", x_train.shape)\n",
        "print(\"Training labels:\", y_train.shape)\n",
        "print(\"Test data:\", x_test.shape)\n",
        "print(\"Test labels:\", y_test.shape)\n"
      ]
    },
    {
      "cell_type": "markdown",
      "source": [
        "# 🧩 Step 2 – Data Visualization and Preprocessing"
      ],
      "metadata": {
        "id": "JKVk57h-TjK7"
      }
    },
    {
      "cell_type": "markdown",
      "source": [
        "\n",
        "\n",
        "In this step, I visualized the MNIST images and prepared the data for use with machine learning models.\n",
        "\n",
        "---\n",
        "\n",
        "#### 🔍 Sample Visualization\n",
        "\n",
        "To get familiar with the dataset, I displayed a few sample images from the training data. This helped me understand how the handwritten digits look and verify that the data was loaded correctly.\n",
        "\n",
        "---\n",
        "\n",
        "#### ⚙️ Data Preprocessing\n",
        "\n",
        "1. **Normalization**  \n",
        "   Pixel values originally range from 0 to 255. I scaled them down to a 0–1 range to ensure more stable and faster model training. This step also avoids issues where certain pixel values dominate due to their larger scale.\n",
        "\n",
        "2. **Flattening**  \n",
        "   Each image in the dataset is 28×28 pixels. I converted these into 1D vectors of length 784 so that models like k-Nearest Neighbors and Support Vector Machines can process them.\n",
        "\n",
        "---\n",
        "\n",
        "#### 🧾 Output:\n",
        "\n",
        "```\n",
        "Flattened training data: (60000, 784)\n",
        "```\n",
        "\n",
        "---\n",
        "\n",
        "#### 📌 What I Learned:\n",
        "\n",
        "- Normalizing pixel values improves model performance and speeds up training.\n",
        "- Flattening 2D images into 1D vectors is necessary for non-CNN models.\n",
        "- Visualization helps build intuition about the dataset before model development.\n",
        "\n"
      ],
      "metadata": {
        "id": "t52nOJCNRc-M"
      }
    },
    {
      "cell_type": "code",
      "source": [
        "import matplotlib.pyplot as plt\n",
        "\n",
        "# Show first 9 images\n",
        "plt.figure(figsize=(6, 6))\n",
        "for i in range(9):\n",
        "    plt.subplot(3, 3, i+1)\n",
        "    plt.imshow(x_train[i], cmap='gray')\n",
        "    plt.title(f\"Label: {y_train[i]}\")\n",
        "    plt.axis('off')\n",
        "plt.tight_layout()\n",
        "plt.show()\n"
      ],
      "metadata": {
        "colab": {
          "base_uri": "https://localhost:8080/",
          "height": 607
        },
        "id": "VAFQElGSNz39",
        "outputId": "64332e35-fe1c-4b06-d13e-5c4276a34794"
      },
      "execution_count": 3,
      "outputs": [
        {
          "output_type": "display_data",
          "data": {
            "text/plain": [
              "<Figure size 600x600 with 9 Axes>"
            ],
            "image/png": "[encoded data removed]"
          },
          "metadata": {}
        }
      ]
    },
    {
      "cell_type": "code",
      "source": [
        "# 1. Normalize pixel values to 0–1\n",
        "x_train_norm = x_train / 255.0\n",
        "x_test_norm = x_test / 255.0\n",
        "\n",
        "# 2. Flatten 28x28 images to 1D (for non-CNN models like kNN or SVM)\n",
        "x_train_flat = x_train_norm.reshape(-1, 28*28)\n",
        "x_test_flat = x_test_norm.reshape(-1, 28*28)\n",
        "\n",
        "print(\"Flattened training data:\", x_train_flat.shape)\n"
      ],
      "metadata": {
        "colab": {
          "base_uri": "https://localhost:8080/"
        },
        "id": "Aejw7AJ5Relp",
        "outputId": "f4d51c59-58b4-4388-8cbd-c7f874f174ab"
      },
      "execution_count": 4,
      "outputs": [
        {
          "output_type": "stream",
          "name": "stdout",
          "text": [
            "Flattened training data: (60000, 784)\n"
          ]
        }
      ]
    },
    {
      "cell_type": "markdown",
      "source": [
        "# ⚙️ STEP 3 - Training a k-Nearest Neighbors (kNN) or Support Vector Machine (SVM) model"
      ],
      "metadata": {
        "id": "do8Dvn0D7FP2"
      }
    },
    {
      "cell_type": "markdown",
      "source": [
        "## Classification with k-Nearest Neighbors (kNN)\n",
        "\n",
        "In this step, I implemented and trained a **k-Nearest Neighbors (kNN)** model to classify handwritten digits from the MNIST dataset.\n",
        "\n",
        "---\n",
        "\n",
        "#### ⚙️ Model Used:  \n",
        "**k-Nearest Neighbors (kNN)** — a simple, instance-based learning algorithm that predicts the class of a data point based on the majority class of its k nearest neighbors.\n",
        "\n",
        "---\n",
        "\n",
        "#### 🧪 Setup:\n",
        "- Used only the first **10,000 training images** (instead of all 60,000) for faster runtime.\n",
        "- Flattened each 28×28 image into a 784-dimensional vector.\n",
        "- Set `k = 3` (used 3 nearest neighbors to make predictions).\n",
        "\n",
        "---\n",
        "\n",
        "#### 📊 Results:\n",
        "- Achieved an accuracy of around **94.6%** on the test set.\n",
        "- Classification report showed strong performance across all digits.\n",
        "- Observed that smaller `k` values can be more sensitive to noise, while larger values can smooth out results but may miss fine details.\n",
        "\n",
        "---\n",
        "\n",
        "#### 📌 What I Learned:\n",
        "- kNN is easy to implement but **computationally expensive at prediction time**.\n",
        "- Works well on small-to-medium datasets, especially when classes are well-separated.\n",
        "- Choosing the right value of **k** is crucial for balancing bias and variance.\n",
        "\n"
      ],
      "metadata": {
        "id": "XnZ8Jj9Vy1Bu"
      }
    },
    {
      "cell_type": "code",
      "source": [
        "from sklearn.neighbors import KNeighborsClassifier\n",
        "from sklearn.metrics import accuracy_score, classification_report\n",
        "import numpy as np\n",
        "\n",
        "# 1. Use a smaller training subset for speed\n",
        "x_train_sample = x_train_flat[:10000]\n",
        "y_train_sample = y_train[:10000]\n",
        "\n",
        "# 2. Initialize and train the model\n",
        "knn = KNeighborsClassifier(n_neighbors=3)  # You can change k here\n",
        "knn.fit(x_train_sample, y_train_sample)\n",
        "\n",
        "# 3. Predict on test set\n",
        "y_pred_knn = knn.predict(x_test_flat)\n",
        "\n",
        "# 4. Evaluate the model\n",
        "accuracy_knn = accuracy_score(y_test, y_pred_knn)\n",
        "print(\"kNN Accuracy:\", accuracy_knn)\n",
        "\n",
        "print(\"\\nClassification Report:\\n\")\n",
        "print(classification_report(y_test, y_pred_knn))\n"
      ],
      "metadata": {
        "colab": {
          "base_uri": "https://localhost:8080/"
        },
        "id": "k-7Ahc_xSRGW",
        "outputId": "c2f322a4-8852-4b68-d056-492c45651e26"
      },
      "execution_count": 7,
      "outputs": [
        {
          "output_type": "stream",
          "name": "stdout",
          "text": [
            "kNN Accuracy: 0.9463\n",
            "\n",
            "Classification Report:\n",
            "\n",
            "              precision    recall  f1-score   support\n",
            "\n",
            "           0       0.94      0.99      0.97       980\n",
            "           1       0.93      0.99      0.96      1135\n",
            "           2       0.97      0.93      0.95      1032\n",
            "           3       0.93      0.94      0.94      1010\n",
            "           4       0.96      0.93      0.95       982\n",
            "           5       0.95      0.94      0.94       892\n",
            "           6       0.96      0.98      0.97       958\n",
            "           7       0.94      0.94      0.94      1028\n",
            "           8       0.97      0.88      0.92       974\n",
            "           9       0.92      0.93      0.93      1009\n",
            "\n",
            "    accuracy                           0.95     10000\n",
            "   macro avg       0.95      0.95      0.95     10000\n",
            "weighted avg       0.95      0.95      0.95     10000\n",
            "\n"
          ]
        }
      ]
    },
    {
      "cell_type": "markdown",
      "source": [
        "##Classification with Support Vector Machine (SVM)\n",
        "\n",
        "In this step, I trained a **Support Vector Machine (SVM)** classifier to recognize handwritten digits from the MNIST dataset.\n",
        "\n",
        "---\n",
        "\n",
        "#### 💡 What is SVM?\n",
        "Support Vector Machine is a supervised learning algorithm that finds the best decision boundary (hyperplane) to separate different classes. It works well in high-dimensional spaces and is commonly used for classification tasks.\n",
        "\n",
        "---\n",
        "\n",
        "#### ⚙️ Model Used:\n",
        "- **LinearSVC** from `sklearn.svm`\n",
        "- Used a simple **linear kernel** without extensive tuning\n",
        "- Trained on a **subset of 10,000 images** for performance efficiency\n",
        "\n",
        "---\n",
        "\n",
        "#### 📊 Results:\n",
        "- Achieved an accuracy of **88.87%**\n",
        "- Performed well on digits like 0, 1, and 6\n",
        "- Struggled more with digits such as 2, 5, and 8\n",
        "- Macro and weighted average F1-score: **~89%**\n",
        "\n",
        "---\n",
        "\n",
        "#### 📌 What I Learned:\n",
        "- SVM performs best with the right kernel and parameters (e.g., `C`, `gamma`)\n",
        "- While SVM is fast at prediction, it may underperform without tuning\n",
        "- Still a powerful choice for text and image classification with more optimization\n",
        "\n"
      ],
      "metadata": {
        "id": "PFW1GtVFy37j"
      }
    },
    {
      "cell_type": "code",
      "source": [
        "from sklearn.svm import LinearSVC\n",
        "from sklearn.metrics import accuracy_score, classification_report\n",
        "\n",
        "# 1. Reduce dataset size for speed (like we did for kNN)\n",
        "x_train_sample = x_train_flat[:10000]\n",
        "y_train_sample = y_train[:10000]\n",
        "\n",
        "# 2. Initialize and train the SVM model\n",
        "svm = LinearSVC()\n",
        "svm.fit(x_train_sample, y_train_sample)\n",
        "\n",
        "# 3. Predict on test set\n",
        "y_pred_svm = svm.predict(x_test_flat)\n",
        "\n",
        "# 4. Evaluate the model\n",
        "accuracy_svm = accuracy_score(y_test, y_pred_svm)\n",
        "print(\"SVM Accuracy:\", accuracy_svm)\n",
        "\n",
        "print(\"\\nClassification Report:\\n\")\n",
        "print(classification_report(y_test, y_pred_svm))\n"
      ],
      "metadata": {
        "colab": {
          "base_uri": "https://localhost:8080/"
        },
        "id": "437EZbMYyqIe",
        "outputId": "8964f32b-7fe7-4d00-f799-4ce8145453bd"
      },
      "execution_count": 8,
      "outputs": [
        {
          "output_type": "stream",
          "name": "stdout",
          "text": [
            "SVM Accuracy: 0.8887\n",
            "\n",
            "Classification Report:\n",
            "\n",
            "              precision    recall  f1-score   support\n",
            "\n",
            "           0       0.94      0.96      0.95       980\n",
            "           1       0.94      0.97      0.95      1135\n",
            "           2       0.90      0.85      0.87      1032\n",
            "           3       0.86      0.88      0.87      1010\n",
            "           4       0.89      0.90      0.90       982\n",
            "           5       0.84      0.84      0.84       892\n",
            "           6       0.91      0.93      0.92       958\n",
            "           7       0.90      0.90      0.90      1028\n",
            "           8       0.81      0.82      0.82       974\n",
            "           9       0.87      0.84      0.85      1009\n",
            "\n",
            "    accuracy                           0.89     10000\n",
            "   macro avg       0.89      0.89      0.89     10000\n",
            "weighted avg       0.89      0.89      0.89     10000\n",
            "\n"
          ]
        }
      ]
    },
    {
      "cell_type": "markdown",
      "source": [
        "## Model Comparison: kNN vs SVM\n",
        "\n",
        "After training both k-Nearest Neighbors (kNN) and Support Vector Machine (SVM) on the MNIST dataset, I compared their performance on the same test set.\n",
        "\n",
        "---\n",
        "\n",
        "#### 📊 Comparison Table\n",
        "\n",
        "| Metric             | k-Nearest Neighbors (kNN) | Support Vector Machine (SVM) |\n",
        "|--------------------|---------------------------|-------------------------------|\n",
        "| **Accuracy**       | ✅ 94.63%                  | 🔹 88.87%                      |\n",
        "| **Precision (avg)**| 95%                        | 89%                           |\n",
        "| **Recall (avg)**   | 95%                        | 89%                           |\n",
        "| **F1-Score (avg)** | 95%                        | 89%                           |\n",
        "| **Training Speed** | Fast (no training phase)   | Slower (requires convergence) |\n",
        "| **Prediction Speed**| Slow (distance-based)     | Fast                          |\n",
        "| **Best For**       | Small-to-medium datasets   | Medium-to-large datasets      |\n",
        "\n",
        "---\n",
        "\n",
        "#### ✅ Key Observations:\n",
        "\n",
        "- **kNN** performed better across all major classification metrics on this subset of MNIST.\n",
        "- **SVM** struggled particularly with certain digits (e.g., 2, 5, 8), which may require kernel tuning or more training data.\n",
        "- kNN is easier to implement but slower at prediction time.\n",
        "- SVM is more efficient during inference but can underperform without parameter optimization.\n",
        "\n",
        "---\n",
        "\n",
        "#### 📌 Conclusion:\n",
        "\n",
        "- **kNN** was the better performer in this case, offering higher accuracy and more balanced classification results.\n",
        "- **SVM** remains a strong option, especially when tuned properly or used with non-linear kernels.\n"
      ],
      "metadata": {
        "id": "nEs1tPIX0V_r"
      }
    },
    {
      "cell_type": "markdown",
      "source": [
        "# 🧠 Step 4 (Optional): Digit Classification using Convolutional Neural Networks (CNN)"
      ],
      "metadata": {
        "id": "YfQzHot01EVn"
      }
    },
    {
      "cell_type": "markdown",
      "source": [
        "\n",
        "\n",
        "In this step, I explored how deep learning models like **CNNs** can automatically learn spatial features from image data — specifically on the MNIST handwritten digit dataset.\n",
        "\n",
        "#### 🧩 Key Concepts Covered:\n",
        "- Why CNNs outperform classical ML in image tasks.\n",
        "- Importance of using 2D input shape (28x28x1) instead of flattening.\n",
        "- Automatic feature extraction using convolutional filters.\n",
        "\n",
        "#### 🧱 Model Architecture:\n",
        "- **Conv2D + MaxPooling** layers to extract and reduce features.\n",
        "- **Flatten** to convert image to a vector.\n",
        "- **Dense** layers for classification.\n",
        "- **Softmax** output layer for digit prediction (0–9).\n",
        "\n",
        "#### ⚙️ Training Setup:\n",
        "- Used `categorical_crossentropy` loss and `adam` optimizer.\n",
        "- Trained on 60,000 training images, tested on 10,000.\n",
        "- Reached **~98% accuracy** within just 5 epochs.\n",
        "\n",
        "#### 🧪 Testing the Model:\n",
        "- Built a tool to test the trained CNN using custom input images.\n",
        "- Uploaded a handwritten digit image, resized and normalized it.\n",
        "- Model predicted the digit along with a **confidence score** for each class.\n",
        "\n",
        "This optional step gave me hands-on experience with deep learning and demonstrated the power of CNNs in visual recognition tasks.\n"
      ],
      "metadata": {
        "id": "SXw_pIb76l8Y"
      }
    },
    {
      "cell_type": "code",
      "source": [
        "# Same Data Again\n",
        "from tensorflow.keras.datasets import mnist\n",
        "\n",
        "# Load data\n",
        "(x_train, y_train), (x_test, y_test) = mnist.load_data()\n",
        "\n",
        "# Check shapes\n",
        "print(\"Training data shape:\", x_train.shape)  # (60000, 28, 28)\n",
        "print(\"Test data shape:\", x_test.shape)       # (10000, 28, 28)\n"
      ],
      "metadata": {
        "colab": {
          "base_uri": "https://localhost:8080/"
        },
        "id": "AOdKjbeZ1GOo",
        "outputId": "597b3727-596b-47ba-8b2d-ef76756a0258"
      },
      "execution_count": 9,
      "outputs": [
        {
          "output_type": "stream",
          "name": "stdout",
          "text": [
            "Training data shape: (60000, 28, 28)\n",
            "Test data shape: (10000, 28, 28)\n"
          ]
        }
      ]
    },
    {
      "cell_type": "code",
      "source": [
        "from tensorflow.keras.utils import to_categorical\n",
        "\n",
        "# 1. Reshape (add a channel dimension: grayscale → 1 channel)\n",
        "x_train_cnn = x_train.reshape(-1, 28, 28, 1)\n",
        "x_test_cnn = x_test.reshape(-1, 28, 28, 1)\n",
        "\n",
        "# 2. Normalize pixel values to [0, 1]\n",
        "x_train_cnn = x_train_cnn / 255.0\n",
        "x_test_cnn = x_test_cnn / 255.0\n",
        "\n",
        "# 3. One-hot encode the labels (0–9 → 10 categories)\n",
        "y_train_cnn = to_categorical(y_train)\n",
        "y_test_cnn = to_categorical(y_test)\n",
        "\n",
        "# Confirm shape\n",
        "print(\"x_train_cnn:\", x_train_cnn.shape)  # (60000, 28, 28, 1)\n",
        "print(\"y_train_cnn:\", y_train_cnn.shape)  # (60000, 10)\n"
      ],
      "metadata": {
        "colab": {
          "base_uri": "https://localhost:8080/"
        },
        "id": "7OIvBY4T1Hqb",
        "outputId": "eca21fe0-2c43-4614-f0c4-163d1729f18f"
      },
      "execution_count": 10,
      "outputs": [
        {
          "output_type": "stream",
          "name": "stdout",
          "text": [
            "x_train_cnn: (60000, 28, 28, 1)\n",
            "y_train_cnn: (60000, 10)\n"
          ]
        }
      ]
    },
    {
      "cell_type": "code",
      "source": [
        "from tensorflow.keras.models import Sequential\n",
        "from tensorflow.keras.layers import Conv2D, MaxPooling2D, Flatten, Dense\n",
        "\n",
        "# Build the CNN model\n",
        "model = Sequential([\n",
        "    Conv2D(32, (3,3), activation='relu', input_shape=(28, 28, 1)),\n",
        "    MaxPooling2D(pool_size=(2, 2)),\n",
        "\n",
        "    Conv2D(64, (3,3), activation='relu'),\n",
        "    MaxPooling2D(pool_size=(2, 2)),\n",
        "\n",
        "    Flatten(),\n",
        "    Dense(128, activation='relu'),\n",
        "    Dense(10, activation='softmax')  # 10 classes for digits 0–9\n",
        "])\n",
        "\n",
        "# Compile the model\n",
        "model.compile(\n",
        "    optimizer='adam',\n",
        "    loss='categorical_crossentropy',\n",
        "    metrics=['accuracy']\n",
        ")\n",
        "\n",
        "# Train the model\n",
        "history = model.fit(\n",
        "    x_train_cnn, y_train_cnn,\n",
        "    validation_data=(x_test_cnn, y_test_cnn),\n",
        "    epochs=5,\n",
        "    batch_size=128\n",
        ")\n"
      ],
      "metadata": {
        "colab": {
          "base_uri": "https://localhost:8080/"
        },
        "id": "12jbnkXF1jbl",
        "outputId": "d722e5df-7ac0-43fb-a037-46bc2bd1b93a"
      },
      "execution_count": 11,
      "outputs": [
        {
          "output_type": "stream",
          "name": "stderr",
          "text": [
            "/usr/local/lib/python3.11/dist-packages/keras/src/layers/convolutional/base_conv.py:107: UserWarning: Do not pass an `input_shape`/`input_dim` argument to a layer. When using Sequential models, prefer using an `Input(shape)` object as the first layer in the model instead.\n",
            "  super().__init__(activity_regularizer=activity_regularizer, **kwargs)\n"
          ]
        },
        {
          "output_type": "stream",
          "name": "stdout",
          "text": [
            "Epoch 1/5\n",
            "\u001b[1m469/469\u001b[0m \u001b[32m━━━━━━━━━━━━━━━━━━━━\u001b[0m\u001b[37m\u001b[0m \u001b[1m54s\u001b[0m 106ms/step - accuracy: 0.8654 - loss: 0.4709 - val_accuracy: 0.9807 - val_loss: 0.0601\n",
            "Epoch 2/5\n",
            "\u001b[1m469/469\u001b[0m \u001b[32m━━━━━━━━━━━━━━━━━━━━\u001b[0m\u001b[37m\u001b[0m \u001b[1m81s\u001b[0m 105ms/step - accuracy: 0.9823 - loss: 0.0615 - val_accuracy: 0.9860 - val_loss: 0.0435\n",
            "Epoch 3/5\n",
            "\u001b[1m469/469\u001b[0m \u001b[32m━━━━━━━━━━━━━━━━━━━━\u001b[0m\u001b[37m\u001b[0m \u001b[1m81s\u001b[0m 104ms/step - accuracy: 0.9883 - loss: 0.0383 - val_accuracy: 0.9886 - val_loss: 0.0323\n",
            "Epoch 4/5\n",
            "\u001b[1m469/469\u001b[0m \u001b[32m━━━━━━━━━━━━━━━━━━━━\u001b[0m\u001b[37m\u001b[0m \u001b[1m83s\u001b[0m 106ms/step - accuracy: 0.9904 - loss: 0.0295 - val_accuracy: 0.9888 - val_loss: 0.0318\n",
            "Epoch 5/5\n",
            "\u001b[1m469/469\u001b[0m \u001b[32m━━━━━━━━━━━━━━━━━━━━\u001b[0m\u001b[37m\u001b[0m \u001b[1m85s\u001b[0m 112ms/step - accuracy: 0.9932 - loss: 0.0210 - val_accuracy: 0.9886 - val_loss: 0.0367\n"
          ]
        }
      ]
    },
    {
      "cell_type": "code",
      "source": [
        "from google.colab import files\n",
        "from PIL import Image\n",
        "import numpy as np\n",
        "import matplotlib.pyplot as plt\n",
        "\n",
        "# Upload image\n",
        "uploaded = files.upload()\n"
      ],
      "metadata": {
        "colab": {
          "base_uri": "https://localhost:8080/",
          "height": 73
        },
        "id": "SnTWI3Kn2VVA",
        "outputId": "dc62a22c-6106-41b0-f09c-bac66bb95ddd"
      },
      "execution_count": 34,
      "outputs": [
        {
          "output_type": "display_data",
          "data": {
            "text/plain": [
              "<IPython.core.display.HTML object>"
            ],
            "text/html": [
              "\n",
              "     <input type=\"file\" id=\"files-1a93dc40-e83d-4643-9e1e-9390bdefe171\" name=\"files[]\" multiple disabled\n",
              "        style=\"border:none\" />\n",
              "     <output id=\"result-1a93dc40-e83d-4643-9e1e-9390bdefe171\">\n",
              "      Upload widget is only available when the cell has been executed in the\n",
              "      current browser session. Please rerun this cell to enable.\n",
              "      </output>\n",
              "      <script>// Copyright 2017 Google LLC\n",
              "//\n",
              "// Licensed under the Apache License, Version 2.0 (the \"License\");\n",
              "// you may not use this file except in compliance with the License.\n",
              "// You may obtain a copy of the License at\n",
              "//\n",
              "//      http://www.apache.org/licenses/LICENSE-2.0\n",
              "//\n",
              "// Unless required by applicable law or agreed to in writing, software\n",
              "// distributed under the License is distributed on an \"AS IS\" BASIS,\n",
              "// WITHOUT WARRANTIES OR CONDITIONS OF ANY KIND, either express or implied.\n",
              "// See the License for the specific language governing permissions and\n",
              "// limitations under the License.\n",
              "\n",
              "/**\n",
              " * @fileoverview Helpers for google.colab Python module.\n",
              " */\n",
              "(function(scope) {\n",
              "function span(text, styleAttributes = {}) {\n",
              "  const element = document.createElement('span');\n",
              "  element.textContent = text;\n",
              "  for (const key of Object.keys(styleAttributes)) {\n",
              "    element.style[key] = styleAttributes[key];\n",
              "  }\n",
              "  return element;\n",
              "}\n",
              "\n",
              "// Max number of bytes which will be uploaded at a time.\n",
              "const MAX_PAYLOAD_SIZE = 100 * 1024;\n",
              "\n",
              "function _uploadFiles(inputId, outputId) {\n",
              "  const steps = uploadFilesStep(inputId, outputId);\n",
              "  const outputElement = document.getElementById(outputId);\n",
              "  // Cache steps on the outputElement to make it available for the next call\n",
              "  // to uploadFilesContinue from Python.\n",
              "  outputElement.steps = steps;\n",
              "\n",
              "  return _uploadFilesContinue(outputId);\n",
              "}\n",
              "\n",
              "// This is roughly an async generator (not supported in the browser yet),\n",
              "// where there are multiple asynchronous steps and the Python side is going\n",
              "// to poll for completion of each step.\n",
              "// This uses a Promise to block the python side on completion of each step,\n",
              "// then passes the result of the previous step as the input to the next step.\n",
              "function _uploadFilesContinue(outputId) {\n",
              "  const outputElement = document.getElementById(outputId);\n",
              "  const steps = outputElement.steps;\n",
              "\n",
              "  const next = steps.next(outputElement.lastPromiseValue);\n",
              "  return Promise.resolve(next.value.promise).then((value) => {\n",
              "    // Cache the last promise value to make it available to the next\n",
              "    // step of the generator.\n",
              "    outputElement.lastPromiseValue = value;\n",
              "    return next.value.response;\n",
              "  });\n",
              "}\n",
              "\n",
              "/**\n",
              " * Generator function which is called between each async step of the upload\n",
              " * process.\n",
              " * @param {string} inputId Element ID of the input file picker element.\n",
              " * @param {string} outputId Element ID of the output display.\n",
              " * @return {!Iterable<!Object>} Iterable of next steps.\n",
              " */\n",
              "function* uploadFilesStep(inputId, outputId) {\n",
              "  const inputElement = document.getElementById(inputId);\n",
              "  inputElement.disabled = false;\n",
              "\n",
              "  const outputElement = document.getElementById(outputId);\n",
              "  outputElement.innerHTML = '';\n",
              "\n",
              "  const pickedPromise = new Promise((resolve) => {\n",
              "    inputElement.addEventListener('change', (e) => {\n",
              "      resolve(e.target.files);\n",
              "    });\n",
              "  });\n",
              "\n",
              "  const cancel = document.createElement('button');\n",
              "  inputElement.parentElement.appendChild(cancel);\n",
              "  cancel.textContent = 'Cancel upload';\n",
              "  const cancelPromise = new Promise((resolve) => {\n",
              "    cancel.onclick = () => {\n",
              "      resolve(null);\n",
              "    };\n",
              "  });\n",
              "\n",
              "  // Wait for the user to pick the files.\n",
              "  const files = yield {\n",
              "    promise: Promise.race([pickedPromise, cancelPromise]),\n",
              "    response: {\n",
              "      action: 'starting',\n",
              "    }\n",
              "  };\n",
              "\n",
              "  cancel.remove();\n",
              "\n",
              "  // Disable the input element since further picks are not allowed.\n",
              "  inputElement.disabled = true;\n",
              "\n",
              "  if (!files) {\n",
              "    return {\n",
              "      response: {\n",
              "        action: 'complete',\n",
              "      }\n",
              "    };\n",
              "  }\n",
              "\n",
              "  for (const file of files) {\n",
              "    const li = document.createElement('li');\n",
              "    li.append(span(file.name, {fontWeight: 'bold'}));\n",
              "    li.append(span(\n",
              "        `(${file.type || 'n/a'}) - ${file.size} bytes, ` +\n",
              "        `last modified: ${\n",
              "            file.lastModifiedDate ? file.lastModifiedDate.toLocaleDateString() :\n",
              "                                    'n/a'} - `));\n",
              "    const percent = span('0% done');\n",
              "    li.appendChild(percent);\n",
              "\n",
              "    outputElement.appendChild(li);\n",
              "\n",
              "    const fileDataPromise = new Promise((resolve) => {\n",
              "      const reader = new FileReader();\n",
              "      reader.onload = (e) => {\n",
              "        resolve(e.target.result);\n",
              "      };\n",
              "      reader.readAsArrayBuffer(file);\n",
              "    });\n",
              "    // Wait for the data to be ready.\n",
              "    let fileData = yield {\n",
              "      promise: fileDataPromise,\n",
              "      response: {\n",
              "        action: 'continue',\n",
              "      }\n",
              "    };\n",
              "\n",
              "    // Use a chunked sending to avoid message size limits. See b/62115660.\n",
              "    let position = 0;\n",
              "    do {\n",
              "      const length = Math.min(fileData.byteLength - position, MAX_PAYLOAD_SIZE);\n",
              "      const chunk = new Uint8Array(fileData, position, length);\n",
              "      position += length;\n",
              "\n",
              "      const base64 = btoa(String.fromCharCode.apply(null, chunk));\n",
              "      yield {\n",
              "        response: {\n",
              "          action: 'append',\n",
              "          file: file.name,\n",
              "          data: base64,\n",
              "        },\n",
              "      };\n",
              "\n",
              "      let percentDone = fileData.byteLength === 0 ?\n",
              "          100 :\n",
              "          Math.round((position / fileData.byteLength) * 100);\n",
              "      percent.textContent = `${percentDone}% done`;\n",
              "\n",
              "    } while (position < fileData.byteLength);\n",
              "  }\n",
              "\n",
              "  // All done.\n",
              "  yield {\n",
              "    response: {\n",
              "      action: 'complete',\n",
              "    }\n",
              "  };\n",
              "}\n",
              "\n",
              "scope.google = scope.google || {};\n",
              "scope.google.colab = scope.google.colab || {};\n",
              "scope.google.colab._files = {\n",
              "  _uploadFiles,\n",
              "  _uploadFilesContinue,\n",
              "};\n",
              "})(self);\n",
              "</script> "
            ]
          },
          "metadata": {}
        },
        {
          "output_type": "stream",
          "name": "stdout",
          "text": [
            "Saving Screenshot 2025-07-20 2235082.png to Screenshot 2025-07-20 2235082.png\n"
          ]
        }
      ]
    },
    {
      "cell_type": "code",
      "source": [
        "# Load and process the image\n",
        "filename = next(iter(uploaded))  # Get uploaded filename\n",
        "img = Image.open(filename).convert('L')  # Convert to grayscale\n",
        "\n",
        "# Resize to 28x28 if needed\n",
        "img = img.resize((28, 28))\n",
        "\n",
        "# Invert colors (if white digit on black)\n",
        "img = np.invert(np.array(img))\n",
        "\n",
        "# Normalize and reshape\n",
        "img = img / 255.0\n",
        "img = img.reshape(1, 28, 28, 1)\n",
        "\n",
        "# Show image\n",
        "plt.imshow(img.reshape(28, 28), cmap='gray')\n",
        "plt.title(\"Preprocessed Input\")\n",
        "plt.axis('off')\n",
        "plt.show()"
      ],
      "metadata": {
        "colab": {
          "base_uri": "https://localhost:8080/",
          "height": 428
        },
        "id": "fAVuwzNm3tLA",
        "outputId": "83a342af-7039-4d6d-9aab-6631eb6490e5"
      },
      "execution_count": 35,
      "outputs": [
        {
          "output_type": "display_data",
          "data": {
            "text/plain": [
              "<Figure size 640x480 with 1 Axes>"
            ],
            "image/png": "[encoded data removed]"
          },
          "metadata": {}
        }
      ]
    },
    {
      "cell_type": "code",
      "source": [
        "# Predict probabilities\n",
        "prediction = model.predict(img)\n",
        "\n",
        "# Get predicted class\n",
        "predicted_digit = np.argmax(prediction)\n",
        "confidence = prediction[0][predicted_digit] * 100\n",
        "\n",
        "print(f\"Predicted digit: {predicted_digit} with {confidence:.2f}% confidence\")\n",
        "\n",
        "# Show full probability distribution (optional)\n",
        "for i, prob in enumerate(prediction[0]):\n",
        "    print(f\"{i}: {prob:.4f}\")\n"
      ],
      "metadata": {
        "colab": {
          "base_uri": "https://localhost:8080/"
        },
        "id": "qBCIpMgg4H_r",
        "outputId": "b703f754-2fbb-4c71-e649-76ce845fb1fd"
      },
      "execution_count": 36,
      "outputs": [
        {
          "output_type": "stream",
          "name": "stdout",
          "text": [
            "\u001b[1m1/1\u001b[0m \u001b[32m━━━━━━━━━━━━━━━━━━━━\u001b[0m\u001b[37m\u001b[0m \u001b[1m0s\u001b[0m 63ms/step\n",
            "Predicted digit: 1 with 25.87% confidence\n",
            "0: 0.0882\n",
            "1: 0.2587\n",
            "2: 0.1386\n",
            "3: 0.1310\n",
            "4: 0.0729\n",
            "5: 0.1011\n",
            "6: 0.0504\n",
            "7: 0.0649\n",
            "8: 0.0340\n",
            "9: 0.0601\n"
          ]
        }
      ]
    },
    {
      "cell_type": "code",
      "source": [],
      "metadata": {
        "id": "3zUTcTSB4_iA"
      },
      "execution_count": null,
      "outputs": []
    }
  ]
}